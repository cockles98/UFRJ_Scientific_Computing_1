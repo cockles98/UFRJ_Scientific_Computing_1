{
 "cells": [
  {
   "cell_type": "markdown",
   "metadata": {},
   "source": [
    "![CC-BY-SA](https://mirrors.creativecommons.org/presskit/buttons/88x31/svg/by-sa.svg)\n",
    "\n",
    "\n",
    "This notebook was created by [Bernardo Freitas Paulo da Costa](http://www.im.ufrj.br/bernardofpc),\n",
    "and is licensed under Creative Commons BY-SA."
   ]
  },
  {
   "cell_type": "markdown",
   "metadata": {},
   "source": [
    "Antes de enviar este Teste, verifique que tudo está funcionando como esperado.\n",
    "Por exemplo, **rode o código inteiro, do zero**.\n",
    "Para isso, vá no menu, escolha _Kernel_, depois _Restart & Run All_.\n",
    "\n",
    "Verifique, também, que você respondeu todas as questões:\n",
    "* as questões de código têm `YOUR CODE HERE` (e você pode apagar o `raise NotImplemented` ao incluir sua resposta)\n",
    "* as questões discursivas têm \"YOUR ANSWER HERE\"."
   ]
  },
  {
   "cell_type": "markdown",
   "metadata": {},
   "source": [
    "---"
   ]
  },
  {
   "cell_type": "markdown",
   "metadata": {
    "deletable": false,
    "editable": false,
    "nbgrader": {
     "cell_type": "markdown",
     "checksum": "23a16928f3399c7d3cb9aae5511689b3",
     "grade": false,
     "grade_id": "cell-54ab70032fd26bcb",
     "locked": true,
     "schema_version": 3,
     "solution": false,
     "task": false
    }
   },
   "source": [
    "**Ideia e polinômios originais**: Luan Lima"
   ]
  },
  {
   "cell_type": "code",
   "execution_count": 9,
   "metadata": {
    "deletable": false,
    "editable": false,
    "nbgrader": {
     "cell_type": "code",
     "checksum": "9a1df605de9a868d93014cc4798f08af",
     "grade": false,
     "grade_id": "cell-2a43a94c84dbed4c6",
     "locked": true,
     "schema_version": 3,
     "solution": false,
     "task": false
    }
   },
   "outputs": [],
   "source": [
    "import numpy as np\n",
    "import matplotlib.pyplot as plt"
   ]
  },
  {
   "cell_type": "markdown",
   "metadata": {
    "deletable": false,
    "editable": false,
    "nbgrader": {
     "cell_type": "markdown",
     "checksum": "a59be24f1eb91dc2f98b6a2e3e27f080",
     "grade": false,
     "grade_id": "cell-13b875525d9f17ca",
     "locked": true,
     "schema_version": 3,
     "solution": false,
     "task": false
    }
   },
   "source": [
    "# Teste 3: Analisando o método de Newton"
   ]
  },
  {
   "cell_type": "markdown",
   "metadata": {
    "deletable": false,
    "editable": false,
    "nbgrader": {
     "cell_type": "markdown",
     "checksum": "9a8f59567f635a4e2ab46eb17712470b",
     "grade": false,
     "grade_id": "cell-a48d75b763f9af05",
     "locked": true,
     "schema_version": 3,
     "solution": false,
     "task": false
    }
   },
   "source": [
    "## Questão 1: Implementação e testes simples\n",
    "\n",
    "Implemente abaixo a função `newton_pts`, que executa o método de Newton,\n",
    "retornando todos os pontos percorridos pelo algoritmo até atingir algum critério de parada.\n",
    "Utilize como critérios de parada `xtol`, `ytol` e `maxiter`."
   ]
  },
  {
   "cell_type": "code",
   "execution_count": 2,
   "metadata": {
    "deletable": false,
    "nbgrader": {
     "cell_type": "code",
     "checksum": "de0412e367ebf5685f685e5628765de5",
     "grade": false,
     "grade_id": "cell-21eba6effc16dcd5",
     "locked": false,
     "schema_version": 3,
     "solution": true,
     "task": false
    }
   },
   "outputs": [],
   "source": [
    "def newton_pts(f, df, x, xtol=1e-8, ytol=1e-8, maxiter=100):\n",
    "    \"\"\"\n",
    "    Método de Newton para encontrar uma raiz de  f  a partir do valor inicial  x.\n",
    "    Retorna todos os pontos pelos quais o algoritmo passa.\n",
    "    \"\"\"\n",
    "    pts = []\n",
    "    for i in range(maxiter):\n",
    "        step = f(x)/df(x)\n",
    "        newx = x - step\n",
    "        pts.append(x)\n",
    "        if abs(step) < xtol:\n",
    "            if newx > 0:\n",
    "                pts.append(newx)\n",
    "            return pts\n",
    "        if abs(f(x)) < ytol:\n",
    "            if newx > 0:\n",
    "                pts.append(newx)            \n",
    "            return pts\n",
    "        x = newx\n",
    "    return pts"
   ]
  },
  {
   "cell_type": "code",
   "execution_count": 3,
   "metadata": {
    "deletable": false,
    "editable": false,
    "nbgrader": {
     "cell_type": "code",
     "checksum": "3f3ec2fdb148584dc9580589d130e8ad",
     "grade": true,
     "grade_id": "cell-b68b199e97006d38",
     "locked": true,
     "points": 1,
     "schema_version": 3,
     "solution": false,
     "task": false
    }
   },
   "outputs": [],
   "source": [
    "def f(x): return np.sin(x)\n",
    "def df(x): return np.cos(x)\n",
    "\n",
    "zs = newton_pts(f,df,1)\n",
    "assert np.isclose(zs[-1], 0)\n",
    "assert 5 <= len(zs) <= 6"
   ]
  },
  {
   "cell_type": "code",
   "execution_count": 4,
   "metadata": {
    "deletable": false,
    "editable": false,
    "nbgrader": {
     "cell_type": "code",
     "checksum": "0ca7fdac59717ba26d9991cc84ef61c1",
     "grade": true,
     "grade_id": "cell-d22af362f930ed12",
     "locked": true,
     "points": 1,
     "schema_version": 3,
     "solution": false,
     "task": false
    }
   },
   "outputs": [],
   "source": [
    "def f(x): return np.sin(x)\n",
    "def df(x): return np.cos(x)\n",
    "\n",
    "zs = newton_pts(f,df,1)\n",
    "assert np.abs(zs[-2]-zs[-3]) >= 1e-8"
   ]
  },
  {
   "cell_type": "code",
   "execution_count": 5,
   "metadata": {
    "deletable": false,
    "editable": false,
    "nbgrader": {
     "cell_type": "code",
     "checksum": "3c7d740dc71bcaa491ab23700b7c98c8",
     "grade": true,
     "grade_id": "cell-932d68498673d592",
     "locked": true,
     "points": 1,
     "schema_version": 3,
     "solution": false,
     "task": false
    }
   },
   "outputs": [],
   "source": [
    "def make_f(a):\n",
    "    def f(x):\n",
    "        return np.exp(x)-a\n",
    "    return f\n",
    "def df(x): return np.exp(x)\n",
    "\n",
    "for a in range(2,11):\n",
    "    f = make_f(a)\n",
    "    zs = newton_pts(f,df,0,ytol=0)\n",
    "    assert np.isclose(zs[-1], np.log(a))\n",
    "    assert np.abs(zs[-1]-zs[-2]) <= 1e-8\n",
    "    assert np.abs(zs[-2]-zs[-3]) >= 1e-8"
   ]
  },
  {
   "cell_type": "markdown",
   "metadata": {
    "deletable": false,
    "editable": false,
    "nbgrader": {
     "cell_type": "markdown",
     "checksum": "87e20d7a75b32d7d6bd5110f60a29303",
     "grade": false,
     "grade_id": "cell-1b5422bd143d710b",
     "locked": true,
     "schema_version": 3,
     "solution": false,
     "task": false
    }
   },
   "source": [
    "## Questão 2: Uma equação trigonométrica\n",
    "\n",
    "Vamos utilizar os nossos métodos para achar uma solução para uma equação difícil de resolver \"na mão\":\n",
    "\n",
    "$$ \\sin(x^2) = \\cos(x)^2. $$"
   ]
  },
  {
   "cell_type": "code",
   "execution_count": 6,
   "metadata": {
    "deletable": false,
    "editable": false,
    "nbgrader": {
     "cell_type": "code",
     "checksum": "a2573b593d50cbf1cfb841b68c7755e6",
     "grade": false,
     "grade_id": "cell-27d525d566dd1042",
     "locked": true,
     "schema_version": 3,
     "solution": false,
     "task": false
    }
   },
   "outputs": [],
   "source": [
    "def f1(x): return np.sin(x**2)\n",
    "def f2(x): return np.cos(x)**2"
   ]
  },
  {
   "cell_type": "markdown",
   "metadata": {
    "deletable": false,
    "editable": false,
    "nbgrader": {
     "cell_type": "markdown",
     "checksum": "8787d4044fe97f93509b0c46011cce68",
     "grade": false,
     "grade_id": "cell-dcf335993ca8bcc9",
     "locked": true,
     "schema_version": 3,
     "solution": false,
     "task": false
    }
   },
   "source": [
    "Faça um gráfico das funções $\\sin(x^2)$ e $\\cos(x)^2$ abaixo.\n",
    "\n",
    "Com a ajuda do gráfico, defina um ponto inicial $x_0$\n",
    "para o método de Newton encontrar a primeira raiz positiva da equação."
   ]
  },
  {
   "cell_type": "code",
   "execution_count": 7,
   "metadata": {
    "deletable": false,
    "nbgrader": {
     "cell_type": "code",
     "checksum": "f2138d7b76ab82ea13a9f53675245eef",
     "grade": true,
     "grade_id": "cell-33562808f2c972b4",
     "locked": false,
     "points": 1,
     "schema_version": 3,
     "solution": true,
     "task": false
    }
   },
   "outputs": [
    {
     "data": {
      "image/png": "[encoded data removed]",
      "text/plain": [
       "<Figure size 432x288 with 1 Axes>"
      ]
     },
     "metadata": {
      "needs_background": "light"
     },
     "output_type": "display_data"
    }
   ],
   "source": [
    "x = np.linspace(-1,1,num=100)\n",
    "y1 = f1(x)\n",
    "y2 = f2(x)\n",
    "plt.plot(x,y1, label='f1')\n",
    "plt.plot(x,y2, label='f2')\n",
    "plt.xlabel('x')\n",
    "plt.ylabel('f(x)')\n",
    "plt.legend()\n",
    "plt.grid()\n",
    "plt.title('Gráfico de f1 e f2')\n",
    "ax = plt.gca();"
   ]
  },
  {
   "cell_type": "code",
   "execution_count": 8,
   "metadata": {
    "deletable": false,
    "editable": false,
    "nbgrader": {
     "cell_type": "code",
     "checksum": "33467b6a8f127cf88340033450457b37",
     "grade": true,
     "grade_id": "cell-98d0867a43ad671d",
     "locked": true,
     "points": 1,
     "schema_version": 3,
     "solution": false,
     "task": false
    }
   },
   "outputs": [],
   "source": [
    "assert len(ax.lines) == 2\n",
    "assert len(ax.legend().texts) == 2\n",
    "assert ax.title.get_text() != \"\""
   ]
  },
  {
   "cell_type": "markdown",
   "metadata": {
    "deletable": false,
    "editable": false,
    "nbgrader": {
     "cell_type": "markdown",
     "checksum": "d51d9c50df8240975a12f07d2cfb51a4",
     "grade": false,
     "grade_id": "cell-fe1239eb6c15047d",
     "locked": true,
     "schema_version": 3,
     "solution": false,
     "task": false
    }
   },
   "source": [
    "Faça um gráfico mostrando a evolução do erro em $y$, em função do número de passos efetuados."
   ]
  },
  {
   "cell_type": "code",
   "execution_count": 26,
   "metadata": {
    "deletable": false,
    "nbgrader": {
     "cell_type": "code",
     "checksum": "a2a39b2c804fd33650dcca7f5928e5ef",
     "grade": false,
     "grade_id": "cell-24528ecdac311a36",
     "locked": false,
     "schema_version": 3,
     "solution": true,
     "task": false
    }
   },
   "outputs": [
    {
     "data": {
      "image/png": "[encoded data removed]",
      "text/plain": [
       "<Figure size 432x288 with 1 Axes>"
      ]
     },
     "metadata": {
      "needs_background": "light"
     },
     "output_type": "display_data"
    }
   ],
   "source": [
    "def f(x): return np.sin(x**2)-np.cos(x)**2\n",
    "def df(x): return 2*x*np.cos(x**2)+np.sin(2*2)\n",
    "x = np.linspace(1,100, num=100)\n",
    "x1 = np.array(newton_pts(f,df,1,xtol=0,ytol=0))\n",
    "y = f(x1)\n",
    "plt.semilogx(x,y, label='erro de f')\n",
    "plt.xlabel('niters')\n",
    "plt.ylabel('erro')\n",
    "plt.legend()\n",
    "plt.grid()\n",
    "plt.title('Gráfico do erro de f (eixo x em escala log)')\n",
    "ax = plt.gca();"
   ]
  },
  {
   "cell_type": "code",
   "execution_count": 10,
   "metadata": {
    "deletable": false,
    "editable": false,
    "nbgrader": {
     "cell_type": "code",
     "checksum": "333f01fba34b3a6e81b2a2ede40ef4f6",
     "grade": true,
     "grade_id": "cell-527cc4dbbe5b74c1",
     "locked": true,
     "points": 1,
     "schema_version": 3,
     "solution": false,
     "task": false
    }
   },
   "outputs": [],
   "source": [
    "assert len(ax.lines) == 1\n",
    "assert ax.title.get_text() != \"\"\n",
    "assert ax.get_xlabel() != \"\""
   ]
  },
  {
   "cell_type": "markdown",
   "metadata": {
    "deletable": false,
    "editable": false,
    "nbgrader": {
     "cell_type": "markdown",
     "checksum": "7217260772eff5277e5cee375d4ae5f3",
     "grade": false,
     "grade_id": "cell-8ff8c913da8b26c7",
     "locked": true,
     "schema_version": 3,
     "solution": false,
     "task": false
    }
   },
   "source": [
    "Comente o resultado."
   ]
  },
  {
   "cell_type": "markdown",
   "metadata": {
    "deletable": false,
    "nbgrader": {
     "cell_type": "markdown",
     "checksum": "d912748a4ceab851db2ff88863bb8ab6",
     "grade": true,
     "grade_id": "cell-f6624b97d581ff27",
     "locked": false,
     "points": 1,
     "schema_version": 3,
     "solution": true,
     "task": false
    }
   },
   "source": []
  },
  {
   "cell_type": "markdown",
   "metadata": {
    "deletable": false,
    "editable": false,
    "nbgrader": {
     "cell_type": "markdown",
     "checksum": "e4d5bae6d92bc23bb19d8bb13b75d3cc",
     "grade": false,
     "grade_id": "cell-e981d18a9d917034",
     "locked": true,
     "schema_version": 3,
     "solution": false,
     "task": false
    }
   },
   "source": [
    "Você acha que seria uma boa ideia fazer um gráfico do erro em $x$ nesse caso?\n",
    "Porquê?"
   ]
  },
  {
   "cell_type": "markdown",
   "metadata": {
    "deletable": false,
    "nbgrader": {
     "cell_type": "markdown",
     "checksum": "5ad278a3ec26b378ff34a59bf9b9fcb7",
     "grade": true,
     "grade_id": "cell-7dc464935d896869",
     "locked": false,
     "points": 1,
     "schema_version": 3,
     "solution": true,
     "task": false
    }
   },
   "source": [
    "YOUR ANSWER HERE"
   ]
  },
  {
   "cell_type": "markdown",
   "metadata": {
    "deletable": false,
    "editable": false,
    "nbgrader": {
     "cell_type": "markdown",
     "checksum": "719e3a1399de17e735c086f521e8a71e",
     "grade": false,
     "grade_id": "cell-18d743e79af9b5ac",
     "locked": true,
     "schema_version": 3,
     "solution": false,
     "task": false
    }
   },
   "source": [
    "## Questão 3: Polinômios em `Python`\n",
    "\n",
    "Para não precisar ficar implementando polinômio por polinômio,\n",
    "implemente uma função `cria_poli(coefs)` que retorna uma (outra) função `poli(x)`,\n",
    "que computa o valor do polinômio\n",
    "\n",
    "$p(X)=$ `coefs[0]`  $+$ `coefs[1]` $X+$ `coefs[2]` $X^2+\\dots+$ `coefs[-1]` $X^n$\n",
    "\n",
    "em $X=$`x`.\n",
    "As funções de polinômios do `numpy` (`poly1d`, `polyval`, `polyder`) podem lhe ser úteis :-)\n",
    "\n",
    "No mesmo espírito, crie a função `cria_derivada_poli(coefs)`,\n",
    "que retorna uma função `derivada_poli(x)` que computa a derivada do polinômio acima em $X=$`x`. "
   ]
  },
  {
   "cell_type": "code",
   "execution_count": 138,
   "metadata": {
    "deletable": false,
    "nbgrader": {
     "cell_type": "code",
     "checksum": "534ee9e13fb4f27cdcab22aa1239b93c",
     "grade": false,
     "grade_id": "cell-c2807c7b82c8b92c",
     "locked": false,
     "schema_version": 3,
     "solution": true,
     "task": false
    }
   },
   "outputs": [],
   "source": [
    "def cria_poli(l):\n",
    "    p = np.poly1d(l)\n",
    "    \n",
    "    def poli(x):\n",
    "        return np.polyval(p, x)\n",
    "    \n",
    "    return poli\n",
    "\n",
    "#def cria_derivada_poli(l):"
   ]
  },
  {
   "cell_type": "code",
   "execution_count": 139,
   "metadata": {},
   "outputs": [
    {
     "data": {
      "text/plain": [
       "8"
      ]
     },
     "execution_count": 139,
     "metadata": {},
     "output_type": "execute_result"
    }
   ],
   "source": [
    "cria_poli([1,2,3,4,5,6,7,8])(0)"
   ]
  },
  {
   "cell_type": "code",
   "execution_count": 136,
   "metadata": {
    "deletable": false,
    "editable": false,
    "nbgrader": {
     "cell_type": "code",
     "checksum": "90a535e2e752b9a992be3ab2d63543cb",
     "grade": true,
     "grade_id": "cell-6177e5fa66a2a4ea",
     "locked": true,
     "points": 1,
     "schema_version": 3,
     "solution": false,
     "task": false
    }
   },
   "outputs": [
    {
     "ename": "AssertionError",
     "evalue": "",
     "output_type": "error",
     "traceback": [
      "\u001b[1;31m---------------------------------------------------------------------------\u001b[0m",
      "\u001b[1;31mAssertionError\u001b[0m                            Traceback (most recent call last)",
      "\u001b[1;32m<ipython-input-136-5488ebd85671>\u001b[0m in \u001b[0;36m<module>\u001b[1;34m\u001b[0m\n\u001b[0;32m      1\u001b[0m \u001b[0mp\u001b[0m \u001b[1;33m=\u001b[0m \u001b[0mcria_poli\u001b[0m\u001b[1;33m(\u001b[0m\u001b[1;33m[\u001b[0m\u001b[1;36m1\u001b[0m\u001b[1;33m,\u001b[0m\u001b[1;36m2\u001b[0m\u001b[1;33m,\u001b[0m\u001b[1;36m3\u001b[0m\u001b[1;33m,\u001b[0m\u001b[1;36m4\u001b[0m\u001b[1;33m,\u001b[0m\u001b[1;36m5\u001b[0m\u001b[1;33m,\u001b[0m\u001b[1;36m6\u001b[0m\u001b[1;33m,\u001b[0m\u001b[1;36m7\u001b[0m\u001b[1;33m,\u001b[0m\u001b[1;36m8\u001b[0m\u001b[1;33m]\u001b[0m\u001b[1;33m)\u001b[0m\u001b[1;33m\u001b[0m\u001b[1;33m\u001b[0m\u001b[0m\n\u001b[1;32m----> 2\u001b[1;33m \u001b[1;32massert\u001b[0m \u001b[0mp\u001b[0m\u001b[1;33m(\u001b[0m\u001b[1;36m0\u001b[0m\u001b[1;33m)\u001b[0m \u001b[1;33m==\u001b[0m \u001b[1;36m1\u001b[0m\u001b[1;33m\u001b[0m\u001b[1;33m\u001b[0m\u001b[0m\n\u001b[0m\u001b[0;32m      3\u001b[0m \u001b[1;32massert\u001b[0m \u001b[0mp\u001b[0m\u001b[1;33m(\u001b[0m\u001b[1;36m1\u001b[0m\u001b[1;33m)\u001b[0m \u001b[1;33m==\u001b[0m \u001b[1;36m8\u001b[0m\u001b[1;33m*\u001b[0m\u001b[1;36m9\u001b[0m\u001b[1;33m/\u001b[0m\u001b[1;36m2\u001b[0m\u001b[1;33m\u001b[0m\u001b[1;33m\u001b[0m\u001b[0m\n",
      "\u001b[1;31mAssertionError\u001b[0m: "
     ]
    }
   ],
   "source": [
    "p = cria_poli([1,2,3,4,5,6,7,8])\n",
    "assert p(0) == 1\n",
    "assert p(1) == 8*9/2"
   ]
  },
  {
   "cell_type": "code",
   "execution_count": null,
   "metadata": {
    "deletable": false,
    "editable": false,
    "nbgrader": {
     "cell_type": "code",
     "checksum": "55ba0996e67fa6f373f28d4c1d5a24a5",
     "grade": true,
     "grade_id": "cell-d7e954931cc61f40",
     "locked": true,
     "points": 1,
     "schema_version": 3,
     "solution": false,
     "task": false
    }
   },
   "outputs": [],
   "source": [
    "for n in range(2,11):\n",
    "    dp = cria_derivada_poli(np.linspace(0,n,n+1))\n",
    "    assert dp(1) == np.sum([c**2 for c in range(n+1)])"
   ]
  },
  {
   "cell_type": "code",
   "execution_count": null,
   "metadata": {
    "deletable": false,
    "editable": false,
    "nbgrader": {
     "cell_type": "code",
     "checksum": "bb1dc78ab8de71904e1b78dc19ac8bd6",
     "grade": true,
     "grade_id": "cell-f05f610731d553f0",
     "locked": true,
     "points": 1,
     "schema_version": 3,
     "solution": false,
     "task": false
    }
   },
   "outputs": [],
   "source": [
    "np.random.seed(21)\n",
    "for n in range(2,6):\n",
    "    coefs = np.random.rand(n)*100\n",
    "    x = np.random.rand()*10\n",
    "    p = cria_poli(coefs)\n",
    "    dp = cria_derivada_poli(coefs)\n",
    "    assert np.isclose(p(x+0.002), p(x)+0.002*dp(x))"
   ]
  },
  {
   "cell_type": "markdown",
   "metadata": {
    "deletable": false,
    "editable": false,
    "nbgrader": {
     "cell_type": "markdown",
     "checksum": "5b14101ce4de9a48801f565ed4543b41",
     "grade": false,
     "grade_id": "cell-27ff3421b62ce3ac",
     "locked": true,
     "schema_version": 3,
     "solution": false,
     "task": false
    }
   },
   "source": [
    "## Questão 4: Achando as raízes de um polinômio\n",
    "\n",
    "Defina o polinômio\n",
    "$p(x) = 1 - \\frac{1}{2}x - 4x^2 + \\frac{1}{2}x^3 + \\frac{3}{2}x^4 + \\frac{1}{2}x^5$,\n",
    "e faça um gráfico que permita visualizar satisfatoriamente a região onde se encontram as suas raízes.\n",
    "\n",
    "Deduza um intervalo $[a,b]$ que contenha todas as raízes reais de $p(x)$."
   ]
  },
  {
   "cell_type": "code",
   "execution_count": null,
   "metadata": {
    "deletable": false,
    "nbgrader": {
     "cell_type": "code",
     "checksum": "6da0d589939046007856733c1f9da0ff",
     "grade": true,
     "grade_id": "cell-f336951ab3ea46df",
     "locked": false,
     "points": 2,
     "schema_version": 3,
     "solution": true,
     "task": false
    }
   },
   "outputs": [],
   "source": [
    "# YOUR CODE HERE\n",
    "raise NotImplementedError()"
   ]
  },
  {
   "cell_type": "markdown",
   "metadata": {
    "deletable": false,
    "editable": false,
    "nbgrader": {
     "cell_type": "markdown",
     "checksum": "d142616bd45ac9bdc5c15d3b0711b1e5",
     "grade": false,
     "grade_id": "cell-c1ba4a83afdc396b",
     "locked": true,
     "schema_version": 3,
     "solution": false,
     "task": false
    }
   },
   "source": [
    "Divida o intervalo $[a,b]$ em um número bem grande de pontos.\n",
    "\n",
    "Faça um gráfico demonstrando o número de iterações necessárias para que o método de Newton convirja,\n",
    "tendo cada ponto do intervalo como valor inicial."
   ]
  },
  {
   "cell_type": "code",
   "execution_count": null,
   "metadata": {
    "deletable": false,
    "nbgrader": {
     "cell_type": "code",
     "checksum": "2d13bd0eb0c1d6776a7df5744e0cac94",
     "grade": true,
     "grade_id": "cell-11c7fe7f16afa9bb",
     "locked": false,
     "points": 1,
     "schema_version": 3,
     "solution": true,
     "task": false
    }
   },
   "outputs": [],
   "source": [
    "# YOUR CODE HERE\n",
    "raise NotImplementedError()\n",
    "\n",
    "ax = plt.gca()"
   ]
  },
  {
   "cell_type": "code",
   "execution_count": null,
   "metadata": {
    "deletable": false,
    "editable": false,
    "nbgrader": {
     "cell_type": "code",
     "checksum": "ab9d10ce73df304878e9b7f7a0d45370",
     "grade": true,
     "grade_id": "cell-0d35aff1d749edd1",
     "locked": true,
     "points": 1,
     "schema_version": 3,
     "solution": false,
     "task": false
    }
   },
   "outputs": [],
   "source": [
    "assert len(ax.lines) == 1\n",
    "assert ax.title.get_text() != \"\"\n",
    "assert ax.get_xlabel() != \"\""
   ]
  },
  {
   "cell_type": "markdown",
   "metadata": {
    "deletable": false,
    "editable": false,
    "nbgrader": {
     "cell_type": "markdown",
     "checksum": "6abece1461780dac6dd55644ae0bc6e4",
     "grade": false,
     "grade_id": "cell-7b797f86a90e963d",
     "locked": true,
     "schema_version": 3,
     "solution": false,
     "task": false
    }
   },
   "source": [
    "Agora, faça o gráfico das raizes para as quais o método converge,\n",
    "em função do ponto inicial."
   ]
  },
  {
   "cell_type": "code",
   "execution_count": null,
   "metadata": {
    "deletable": false,
    "nbgrader": {
     "cell_type": "code",
     "checksum": "4dd8bf72bdea23d4138dbe460b8b542b",
     "grade": true,
     "grade_id": "cell-226f6b8204f29ce8",
     "locked": false,
     "points": 2,
     "schema_version": 3,
     "solution": true,
     "task": false
    }
   },
   "outputs": [],
   "source": [
    "# YOUR CODE HERE\n",
    "raise NotImplementedError()"
   ]
  },
  {
   "cell_type": "markdown",
   "metadata": {
    "deletable": false,
    "editable": false,
    "nbgrader": {
     "cell_type": "markdown",
     "checksum": "8085308c87f8983d6413a7d877aa2e13",
     "grade": false,
     "grade_id": "cell-8d12fdaddfc1a3bd",
     "locked": true,
     "schema_version": 3,
     "solution": false,
     "task": false
    }
   },
   "source": [
    "Comente os gráficos."
   ]
  },
  {
   "cell_type": "markdown",
   "metadata": {
    "deletable": false,
    "nbgrader": {
     "cell_type": "markdown",
     "checksum": "72291526b14a369436d65cd25ccbb103",
     "grade": true,
     "grade_id": "cell-430f856a08231a98",
     "locked": false,
     "points": 2,
     "schema_version": 3,
     "solution": true,
     "task": false
    }
   },
   "source": [
    "YOUR ANSWER HERE"
   ]
  },
  {
   "cell_type": "markdown",
   "metadata": {
    "deletable": false,
    "editable": false,
    "nbgrader": {
     "cell_type": "markdown",
     "checksum": "543a2529cb253e212a7feb6946a00bc2",
     "grade": false,
     "grade_id": "cell-2a2ef0dc98275f23",
     "locked": true,
     "schema_version": 3,
     "solution": false,
     "task": false
    }
   },
   "source": [
    "## Questão 5: Outro polinômio\n",
    "Repita o mesmo estudo para o polinômio\n",
    "\n",
    "$$p(x) = 1 - \\frac{1}{2}x - \\frac{3}{2}x^2 + \\frac{1}{2}x^3 + \\frac{3}{2}x^4 + \\frac{1}{2}x^5. $$"
   ]
  },
  {
   "cell_type": "markdown",
   "metadata": {
    "deletable": false,
    "editable": false,
    "nbgrader": {
     "cell_type": "markdown",
     "checksum": "ae768a23549602bc3e1b0ebea3b231f4",
     "grade": false,
     "grade_id": "cell-29597323dbc2915a",
     "locked": true,
     "schema_version": 3,
     "solution": false,
     "task": false
    }
   },
   "source": [
    "Gráfico"
   ]
  },
  {
   "cell_type": "code",
   "execution_count": null,
   "metadata": {
    "deletable": false,
    "nbgrader": {
     "cell_type": "code",
     "checksum": "2feb663fc66fd2a4940b180eb4f7418c",
     "grade": true,
     "grade_id": "cell-0089df40db1852ed",
     "locked": false,
     "points": 1,
     "schema_version": 3,
     "solution": true,
     "task": false
    }
   },
   "outputs": [],
   "source": [
    "# YOUR CODE HERE\n",
    "raise NotImplementedError()"
   ]
  },
  {
   "cell_type": "markdown",
   "metadata": {
    "deletable": false,
    "editable": false,
    "nbgrader": {
     "cell_type": "markdown",
     "checksum": "431c59d651adce45c02dfc512ead0e6a",
     "grade": false,
     "grade_id": "cell-ce46d85831390a47",
     "locked": true,
     "schema_version": 3,
     "solution": false,
     "task": false
    }
   },
   "source": [
    "Iterações para encontrar as raízes, e raízes encontradas."
   ]
  },
  {
   "cell_type": "code",
   "execution_count": null,
   "metadata": {
    "deletable": false,
    "nbgrader": {
     "cell_type": "code",
     "checksum": "a1a7c8d1918990e6567f0c0e8f9beed4",
     "grade": true,
     "grade_id": "cell-3e9a080ca3af72e2",
     "locked": false,
     "points": 2,
     "schema_version": 3,
     "solution": true,
     "task": false
    }
   },
   "outputs": [],
   "source": [
    "# YOUR CODE HERE\n",
    "raise NotImplementedError()"
   ]
  },
  {
   "cell_type": "markdown",
   "metadata": {
    "deletable": false,
    "editable": false,
    "nbgrader": {
     "cell_type": "markdown",
     "checksum": "0636fc7a97ce4709219981bf4f1297a0",
     "grade": false,
     "grade_id": "cell-478a86f93ae9faec",
     "locked": true,
     "schema_version": 3,
     "solution": false,
     "task": false
    }
   },
   "source": [
    "O que mudou dessa vez? Que conclusão você tira disso?"
   ]
  },
  {
   "cell_type": "markdown",
   "metadata": {
    "deletable": false,
    "nbgrader": {
     "cell_type": "markdown",
     "checksum": "f6f5a86fb55a9068479db6f6be0b928f",
     "grade": true,
     "grade_id": "cell-cfb7e46394423cef",
     "locked": false,
     "points": 2,
     "schema_version": 3,
     "solution": true,
     "task": false
    }
   },
   "source": [
    "YOUR ANSWER HERE"
   ]
  }
 ],
 "metadata": {
  "kernelspec": {
   "display_name": "Python 3",
   "language": "python",
   "name": "python3"
  },
  "language_info": {
   "codemirror_mode": {
    "name": "ipython",
    "version": 3
   },
   "file_extension": ".py",
   "mimetype": "text/x-python",
   "name": "python",
   "nbconvert_exporter": "python",
   "pygments_lexer": "ipython3",
   "version": "3.8.5"
  }
 },
 "nbformat": 4,
 "nbformat_minor": 4
}
