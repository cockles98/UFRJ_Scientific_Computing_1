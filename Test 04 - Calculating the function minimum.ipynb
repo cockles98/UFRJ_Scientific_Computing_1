{
 "cells": [
  {
   "cell_type": "markdown",
   "metadata": {},
   "source": [
    "![CC-BY-SA](https://mirrors.creativecommons.org/presskit/buttons/88x31/svg/by-sa.svg)\n",
    "\n",
    "\n",
    "This notebook was created by [Bernardo Freitas Paulo da Costa](http://www.im.ufrj.br/bernardofpc),\n",
    "and is licensed under Creative Commons BY-SA."
   ]
  },
  {
   "cell_type": "markdown",
   "metadata": {},
   "source": [
    "Antes de enviar este Teste, verifique que tudo está funcionando como esperado.\n",
    "Por exemplo, **rode o código inteiro, do zero**.\n",
    "Para isso, vá no menu, escolha _Kernel_, depois _Restart & Run All_.\n",
    "\n",
    "Verifique, também, que você respondeu todas as questões:\n",
    "* as questões de código têm `YOUR CODE HERE` (e você pode apagar o `raise NotImplemented` ao incluir sua resposta)\n",
    "* as questões discursivas têm \"YOUR ANSWER HERE\"."
   ]
  },
  {
   "cell_type": "markdown",
   "metadata": {},
   "source": [
    "---"
   ]
  },
  {
   "cell_type": "markdown",
   "metadata": {},
   "source": [
    "Ideias e funções: Luan Lima \\& Bernardo Costa"
   ]
  },
  {
   "cell_type": "code",
   "execution_count": 1,
   "metadata": {
    "deletable": false,
    "editable": false,
    "nbgrader": {
     "cell_type": "code",
     "checksum": "fad3c375e7e9bea49e1af8a31ba4ae42",
     "grade": false,
     "grade_id": "cell-65e15f0c80a778ad",
     "locked": true,
     "schema_version": 3,
     "solution": false,
     "task": false
    }
   },
   "outputs": [],
   "source": [
    "import numpy as np\n",
    "import matplotlib.pyplot as plt"
   ]
  },
  {
   "cell_type": "markdown",
   "metadata": {
    "deletable": false,
    "editable": false,
    "nbgrader": {
     "cell_type": "markdown",
     "checksum": "f0356207f3ddab37b3a572f7ea4b12e9",
     "grade": false,
     "grade_id": "cell-a29e7d7add82d4c0",
     "locked": true,
     "schema_version": 3,
     "solution": false,
     "task": false
    }
   },
   "source": [
    "# Calculando o mínimo de uma função\n",
    "\n",
    "Encontrar o mínimo de uma função derivável é (quase) equivalente a resolver a equação $f'(x) = 0$.\n",
    "\n",
    "Vamos explorar algumas destas ideias."
   ]
  },
  {
   "cell_type": "markdown",
   "metadata": {
    "deletable": false,
    "editable": false,
    "nbgrader": {
     "cell_type": "markdown",
     "checksum": "9309a02cac44696888270aa5581d5d95",
     "grade": false,
     "grade_id": "cell-4c63876feb475715",
     "locked": true,
     "schema_version": 3,
     "solution": false,
     "task": false
    }
   },
   "source": [
    "# 1: Funções básicas\n",
    "\n",
    "## Métodos de bisseção e Newton"
   ]
  },
  {
   "cell_type": "code",
   "execution_count": 2,
   "metadata": {
    "deletable": false,
    "nbgrader": {
     "cell_type": "code",
     "checksum": "da15f4441c6a20aaed87fe0ab02f3364",
     "grade": false,
     "grade_id": "cell-b115a314a5fec568",
     "locked": false,
     "schema_version": 3,
     "solution": true,
     "task": false
    }
   },
   "outputs": [],
   "source": [
    "def bissecao_pts(f, a, b, xtol=1e-8, ytol=1e-8, maxiter=100):\n",
    "    \"\"\"\n",
    "    Encontra uma raiz de  f  pelo algoritmo da bissecao, retornando\n",
    "    todos os pontos pelos quais o algoritmo passa.\n",
    "    \"\"\"\n",
    "    niter = 0\n",
    "    ncalls = 0\n",
    "    x_pts = []\n",
    "    while abs(a-b) > xtol:\n",
    "        if niter == maxiter:\n",
    "            return x_pts\n",
    "        \n",
    "        niter += 1\n",
    "        ncalls += 2\n",
    "        m = (a+b)/2\n",
    "        x_pts.append(m)\n",
    "        f_m = f(m)\n",
    "        \n",
    "        if f(a)*f_m < 0:\n",
    "            b = m\n",
    "            if abs(f_m) < ytol:\n",
    "                return x_pts\n",
    "            \n",
    "        else:\n",
    "            a = m   \n",
    "            if abs(f_m) < ytol:\n",
    "                return x_pts\n",
    "            \n",
    "    return x_pts"
   ]
  },
  {
   "cell_type": "code",
   "execution_count": 3,
   "metadata": {
    "deletable": false,
    "nbgrader": {
     "cell_type": "code",
     "checksum": "607f2b0a74a5256049a9f7d4216cfa0f",
     "grade": false,
     "grade_id": "cell-0b468dfa529cf20c",
     "locked": false,
     "schema_version": 3,
     "solution": true,
     "task": false
    }
   },
   "outputs": [],
   "source": [
    "def newton_pts(f, df, x, xtol=1e-8, ytol=1e-8, maxiter=100):\n",
    "    \"\"\"\n",
    "    Método de Newton para encontrar uma raiz de  f  a partir do valor inicial  x.\n",
    "    Retorna todos os pontos pelos quais o algoritmo passa.\n",
    "    \"\"\"\n",
    "    pts = []\n",
    "    for i in range(maxiter):\n",
    "        step = f(x)/df(x)\n",
    "        newx = x - step\n",
    "        pts.append(x)\n",
    "        if abs(step) < xtol:\n",
    "            if newx > 0:\n",
    "                pts.append(newx)\n",
    "            return pts\n",
    "        if abs(f(x)) < ytol:\n",
    "            if newx > 0:\n",
    "                pts.append(newx)            \n",
    "            return pts\n",
    "        x = newx\n",
    "    return pts"
   ]
  },
  {
   "cell_type": "markdown",
   "metadata": {
    "deletable": false,
    "editable": false,
    "nbgrader": {
     "cell_type": "markdown",
     "checksum": "b1294b72c66ed0608c69193bd6915a5b",
     "grade": false,
     "grade_id": "cell-6ff29452853ee3a2",
     "locked": true,
     "schema_version": 3,
     "solution": false,
     "task": false
    }
   },
   "source": [
    "## Derivadas numéricas"
   ]
  },
  {
   "cell_type": "code",
   "execution_count": 4,
   "metadata": {
    "deletable": false,
    "nbgrader": {
     "cell_type": "code",
     "checksum": "017080c36145ceee19aa97e75720bd2e",
     "grade": false,
     "grade_id": "cell-1daa58322d288c07",
     "locked": false,
     "schema_version": 3,
     "solution": true,
     "task": false
    }
   },
   "outputs": [],
   "source": [
    "def df_central(f, x, h=1e-5):\n",
    "    \"\"\"Derivada central de  f  em  x, com passo  h\"\"\"\n",
    "    a = f(x+h)\n",
    "    b = f(x-h)\n",
    "    return (a-b)/(2*h)\n",
    "\n",
    "def ddf_central(f, x, h=1e-4):\n",
    "    \"\"\"Aproximação da segunda derivada de  f  em  x, usando a derivada central iterada com passo  h.\"\"\"\n",
    "    a = df_central(f, x+h)\n",
    "    b = df_central(f, x-h)\n",
    "    return (a-b)/(2*h)"
   ]
  },
  {
   "cell_type": "markdown",
   "metadata": {
    "deletable": false,
    "editable": false,
    "nbgrader": {
     "cell_type": "markdown",
     "checksum": "5b715c646555740b82fd514ffc215c78",
     "grade": false,
     "grade_id": "cell-c16d8a91f6447f9a",
     "locked": true,
     "schema_version": 3,
     "solution": false,
     "task": false
    }
   },
   "source": [
    "## Erro de aproximação da derivada central iterada\n",
    "\n",
    "Varie $h$ no intervalo $[2^{-27}, 2^0]$,\n",
    "e faça um gráfico do erro da derivada central iterada para derivada segunda,\n",
    "para a exponencial em $x = 0$."
   ]
  },
  {
   "cell_type": "code",
   "execution_count": 5,
   "metadata": {
    "deletable": false,
    "nbgrader": {
     "cell_type": "code",
     "checksum": "48465f1971e3970e495c481aa5edce90",
     "grade": false,
     "grade_id": "cell-f9ef9935a20af648",
     "locked": false,
     "schema_version": 3,
     "solution": true,
     "task": false
    }
   },
   "outputs": [
    {
     "data": {
      "image/png": "[encoded data removed]",
      "text/plain": [
       "<Figure size 432x288 with 1 Axes>"
      ]
     },
     "metadata": {
      "needs_background": "light"
     },
     "output_type": "display_data"
    }
   ],
   "source": [
    "hs = np.logspace(-27,0,base=2, num=100)\n",
    "erros = [ddf_central(lambda x: np.e**x, 0, i) - 1 for i in hs]\n",
    "plt.plot(hs,erros, label='erro de ddf')\n",
    "plt.grid()\n",
    "plt.legend()\n",
    "plt.xlabel('Variação de h')\n",
    "plt.ylabel('Error')\n",
    "plt.title('Gráfico do erro relativo da segunda derivada de f com passo h')\n",
    "ax = plt.gca();"
   ]
  },
  {
   "cell_type": "code",
   "execution_count": 6,
   "metadata": {
    "deletable": false,
    "editable": false,
    "nbgrader": {
     "cell_type": "code",
     "checksum": "1123815067d547cb7964991529b1afe7",
     "grade": true,
     "grade_id": "cell-b05755409653a3ae",
     "locked": true,
     "points": 1,
     "schema_version": 3,
     "solution": false,
     "task": false
    }
   },
   "outputs": [],
   "source": [
    "assert len(ax.lines) == 1\n",
    "assert ax.title.get_text() != \"\"\n",
    "assert ax.get_xlabel() != \"\""
   ]
  },
  {
   "cell_type": "markdown",
   "metadata": {
    "deletable": false,
    "editable": false,
    "nbgrader": {
     "cell_type": "markdown",
     "checksum": "c06e999b9687092a631395757269665d",
     "grade": false,
     "grade_id": "cell-ae0793549d9e71a6",
     "locked": true,
     "schema_version": 3,
     "solution": false,
     "task": false
    }
   },
   "source": [
    "Como esse gráfico muda se escolhermos outros pontos no intervalo $[-2,2]$?\n",
    "\n",
    "Obs: Use erros relativos!"
   ]
  },
  {
   "cell_type": "code",
   "execution_count": 7,
   "metadata": {
    "deletable": false,
    "nbgrader": {
     "cell_type": "code",
     "checksum": "dd15fe897c27a33df3d529a16533c1d9",
     "grade": false,
     "grade_id": "cell-cd0d59a4500b0609",
     "locked": false,
     "schema_version": 3,
     "solution": true,
     "task": false
    }
   },
   "outputs": [
    {
     "data": {
      "image/png": "[encoded data removed]",
      "text/plain": [
       "<Figure size 432x288 with 1 Axes>"
      ]
     },
     "metadata": {
      "needs_background": "light"
     },
     "output_type": "display_data"
    }
   ],
   "source": [
    "hs = np.logspace(-27, 0, base=2, num=100)\n",
    "xs = np.linspace(-2, 2, num=8)\n",
    "for i in xs:\n",
    "    erros = [ddf_central(lambda x: np.exp(x), i, j) - np.e**i for j in hs]\n",
    "    plt.plot(hs,erros, label=f'erro de ddf usando x={i}')\n",
    "plt.grid()\n",
    "plt.xlabel('Variação de h')\n",
    "plt.ylabel('Error')\n",
    "plt.title('Gráfico do erro relativo da segunda derivada de f com passo h')\n",
    "plt.legend(title=\"x\", bbox_to_anchor=(1,0.5), loc=\"center left\")\n",
    "ax = plt.gca();"
   ]
  },
  {
   "cell_type": "code",
   "execution_count": 8,
   "metadata": {
    "deletable": false,
    "editable": false,
    "nbgrader": {
     "cell_type": "code",
     "checksum": "e20f49160d619397e041d7cf3915f22b",
     "grade": true,
     "grade_id": "cell-9c6df51d67a4e19a",
     "locked": true,
     "points": 2,
     "schema_version": 3,
     "solution": false,
     "task": false
    }
   },
   "outputs": [],
   "source": [
    "assert len(ax.lines) >= 8\n",
    "assert ax.title.get_text() != \"\"\n",
    "assert ax.get_xlabel() != \"\""
   ]
  },
  {
   "cell_type": "markdown",
   "metadata": {
    "deletable": false,
    "editable": false,
    "nbgrader": {
     "cell_type": "markdown",
     "checksum": "b34daa4b20059e25e7944c7c5527338e",
     "grade": false,
     "grade_id": "cell-f384f93ee7b42f89",
     "locked": true,
     "schema_version": 3,
     "solution": false,
     "task": false
    }
   },
   "source": [
    "Comente."
   ]
  },
  {
   "cell_type": "markdown",
   "metadata": {
    "deletable": false,
    "nbgrader": {
     "cell_type": "markdown",
     "checksum": "541195bc2b2a521df317d40a8c12fb7c",
     "grade": true,
     "grade_id": "cell-729164762fe133a2",
     "locked": false,
     "points": 2,
     "schema_version": 3,
     "solution": true,
     "task": false
    }
   },
   "source": [
    "Analisando os gráficos vemos que quanto maior o valor da derivada de f num certo valor de x, maior é o erro inicial, ou seja, para atingir uma determinada precisão, quanto maior for a derivada num determinado x, menor terá q ser o passo h para que se consiga atingir a precisão desejada. \n",
    "\n",
    "A princípio podemos olhar a diferença do erro quando h=1, nessa primeira comparação os erros para cada um dos valores de x já se iniciam diferentes (pois suas derivadas tem valores diferentes e estamos olhando para um mesmo h), vemos nitidamente que quanto menor o x, de fato, menor é o alcance do erro, isso se dá pois no caso observado df(x)=f(x)=e^x , logo, conforme  x descresce, sua derivada também descresce, ou seja, se o erro depende da derivada e do passo h, comparando diversos valores de x, para uma mesma variação de h, quanto menor for o x, menor será o ALANCE do erro, e ao passo que h tende à 0, todos os erros também dendem a 0 (independente do x)."
   ]
  },
  {
   "cell_type": "markdown",
   "metadata": {
    "deletable": false,
    "editable": false,
    "nbgrader": {
     "cell_type": "markdown",
     "checksum": "94e002dee6039be77bd85c9094adc79a",
     "grade": false,
     "grade_id": "cell-f73db6f03ad40c68",
     "locked": true,
     "schema_version": 3,
     "solution": false,
     "task": false
    }
   },
   "source": [
    "# 2: Um problema modelo\n",
    "\n",
    "Vamos minimizar a função $f(x) = e^x - 2x$."
   ]
  },
  {
   "cell_type": "code",
   "execution_count": 9,
   "metadata": {
    "deletable": false,
    "editable": false,
    "nbgrader": {
     "cell_type": "code",
     "checksum": "258a73b0040029bcbb6ba512bb1a0901",
     "grade": false,
     "grade_id": "cell-50e439bd375c6d83",
     "locked": true,
     "schema_version": 3,
     "solution": false,
     "task": false
    }
   },
   "outputs": [],
   "source": [
    "def f(x):\n",
    "    return np.exp(x) - 2*x"
   ]
  },
  {
   "cell_type": "markdown",
   "metadata": {
    "deletable": false,
    "editable": false,
    "nbgrader": {
     "cell_type": "markdown",
     "checksum": "4eb888fa284466b2ceb633d7457dad99",
     "grade": false,
     "grade_id": "cell-e3d3efb25ad5cc63",
     "locked": true,
     "schema_version": 3,
     "solution": false,
     "task": false
    }
   },
   "source": [
    "## Preparando a bisseção\n",
    "\n",
    "Escreva 3 funções:\n",
    "- a derivada analítica $g_1(x) = f'(x)$\n",
    "- a derivada central $g_2(x)$ com passo `h = 1e-3`\n",
    "- a derivada central $g_2(x)$ com passo `h = 1e-5`"
   ]
  },
  {
   "cell_type": "code",
   "execution_count": 10,
   "metadata": {
    "deletable": false,
    "nbgrader": {
     "cell_type": "code",
     "checksum": "db10c8b675effc6aed57ab25fda764a1",
     "grade": false,
     "grade_id": "cell-24a45d23c8e14f1d",
     "locked": false,
     "schema_version": 3,
     "solution": true,
     "task": false
    }
   },
   "outputs": [],
   "source": [
    "def g1(x):\n",
    "    return np.exp(x) - 2\n",
    "\n",
    "def g2(x):\n",
    "    return df_central(f, x, h=1e-3)\n",
    "\n",
    "def g3(x):\n",
    "    return df_central(f, x)"
   ]
  },
  {
   "cell_type": "code",
   "execution_count": 11,
   "metadata": {
    "deletable": false,
    "editable": false,
    "nbgrader": {
     "cell_type": "code",
     "checksum": "9bad8fc87cb31dbed9ebd102c3914d35",
     "grade": true,
     "grade_id": "cell-29fc4f72f2ac4d50",
     "locked": true,
     "points": 2,
     "schema_version": 3,
     "solution": false,
     "task": false
    }
   },
   "outputs": [],
   "source": [
    "np.random.seed(41)\n",
    "for x in np.random.rand(10):\n",
    "    assert np.isclose(g1(x), g2(x)), x\n",
    "    assert np.isclose(g1(x), g3(x)), x"
   ]
  },
  {
   "cell_type": "markdown",
   "metadata": {
    "deletable": false,
    "editable": false,
    "nbgrader": {
     "cell_type": "markdown",
     "checksum": "b08068b8f965d045973eee6f5c1df9b2",
     "grade": false,
     "grade_id": "cell-829fb63ccb4c0cca",
     "locked": true,
     "schema_version": 3,
     "solution": false,
     "task": false
    }
   },
   "source": [
    "Faça o gráfico de $f(x)$ e determine um intervalo para fazer bisseção para encontrar um zero da derivada."
   ]
  },
  {
   "cell_type": "code",
   "execution_count": 12,
   "metadata": {
    "deletable": false,
    "nbgrader": {
     "cell_type": "code",
     "checksum": "5edb59d346550a5328f3a7631ee43ccc",
     "grade": false,
     "grade_id": "cell-a58ac0f52b122daf",
     "locked": false,
     "schema_version": 3,
     "solution": true,
     "task": false
    }
   },
   "outputs": [
    {
     "data": {
      "image/png": "[encoded data removed]",
      "text/plain": [
       "<Figure size 432x288 with 1 Axes>"
      ]
     },
     "metadata": {
      "needs_background": "light"
     },
     "output_type": "display_data"
    }
   ],
   "source": [
    "xs = np.linspace(-2,2,num=100)\n",
    "ys = [f(x) for x in xs]\n",
    "plt.plot(xs,ys)\n",
    "plt.grid()\n",
    "plt.xlabel('Eixo x')\n",
    "plt.ylabel('Eixo y')\n",
    "plt.title('Gráfico de f(x)')\n",
    "ax = plt.gca();"
   ]
  },
  {
   "cell_type": "code",
   "execution_count": 13,
   "metadata": {
    "deletable": false,
    "editable": false,
    "nbgrader": {
     "cell_type": "code",
     "checksum": "ea476aa7ebd6797fcd4bbde18628c64d",
     "grade": true,
     "grade_id": "cell-0cb823848a9c5e2a",
     "locked": true,
     "points": 1,
     "schema_version": 3,
     "solution": false,
     "task": false
    }
   },
   "outputs": [],
   "source": [
    "assert len(ax.lines) == 1\n",
    "assert ax.title.get_text() != \"\""
   ]
  },
  {
   "cell_type": "markdown",
   "metadata": {
    "deletable": false,
    "editable": false,
    "nbgrader": {
     "cell_type": "markdown",
     "checksum": "24d0428ef62235734304e2dc752bc3dd",
     "grade": false,
     "grade_id": "cell-cad1aa84b713fa03",
     "locked": true,
     "schema_version": 3,
     "solution": false,
     "task": false
    }
   },
   "source": [
    "Qual intervalo você escolheria?\n",
    "Porquê?"
   ]
  },
  {
   "cell_type": "markdown",
   "metadata": {
    "deletable": false,
    "nbgrader": {
     "cell_type": "markdown",
     "checksum": "c5facd8e4669f216c60015a4fccac44a",
     "grade": true,
     "grade_id": "cell-747a80c3022bd503",
     "locked": false,
     "points": 1,
     "schema_version": 3,
     "solution": true,
     "task": false
    }
   },
   "source": [
    "Poderíamos escolher por exemplo o intervalo [-1,1], visto que a derivada é 0 em aproximadamente x=0.7, o intervalo citado vai conter valores negativos e positivos da derivada de f."
   ]
  },
  {
   "cell_type": "markdown",
   "metadata": {
    "deletable": false,
    "editable": false,
    "nbgrader": {
     "cell_type": "markdown",
     "checksum": "1e82977f797c04ea5e49000032bb19ba",
     "grade": false,
     "grade_id": "cell-e16fe2100c91ac0b",
     "locked": true,
     "schema_version": 3,
     "solution": false,
     "task": false
    }
   },
   "source": [
    "## Gráficos da bisseção\n",
    "\n",
    "Aplique o método da bisseção usando $g_1$, $g_2$ e $g_3$ para encontrar uma raiz de $f$.\n",
    "\n",
    "Faça um gráfico mostrando como evolui (ao longo das iterações)\n",
    "a distância do ponto considerado até a raiz ($\\log(2)$),\n",
    "para cada um dos métodos."
   ]
  },
  {
   "cell_type": "code",
   "execution_count": 14,
   "metadata": {
    "deletable": false,
    "nbgrader": {
     "cell_type": "code",
     "checksum": "536e45660e994de7d3936c6ea48fa178",
     "grade": false,
     "grade_id": "cell-5898a28e8d84011e",
     "locked": false,
     "schema_version": 3,
     "solution": true,
     "task": false
    }
   },
   "outputs": [
    {
     "data": {
      "image/png": "[encoded data removed]",
      "text/plain": [
       "<Figure size 432x288 with 1 Axes>"
      ]
     },
     "metadata": {
      "needs_background": "light"
     },
     "output_type": "display_data"
    }
   ],
   "source": [
    "xs = np.linspace(0,50)+1\n",
    "y1 = [abs(i - np.log(2)) for i in bissecao_pts(g1, -1, 1, xtol=0, ytol=0, maxiter=50)]\n",
    "y2 = [abs(j - np.log(2)) for j in bissecao_pts(g2, -1, 1, xtol=0, ytol=0, maxiter=50)]\n",
    "y3 = [abs(k - np.log(2)) for k in bissecao_pts(g3, -1, 1, xtol=0, ytol=0, maxiter=50)]\n",
    "\n",
    "plt.semilogy(xs,y1, label='g1')\n",
    "plt.semilogy(xs,y2, label='g2 -> h=1e-3')\n",
    "plt.semilogy(xs,y3, label='g3 -> h=1e-5')\n",
    "plt.legend()\n",
    "plt.xlabel('n_iter')\n",
    "plt.ylabel('error')\n",
    "plt.title('Evolução do erro de acordo com n_iter (com eixo y em escala log)')\n",
    "ax = plt.gca();"
   ]
  },
  {
   "cell_type": "code",
   "execution_count": 15,
   "metadata": {
    "deletable": false,
    "editable": false,
    "nbgrader": {
     "cell_type": "code",
     "checksum": "371a5eb6691e3a545842396edccb0a4b",
     "grade": true,
     "grade_id": "cell-6c548be9ea138bca",
     "locked": true,
     "points": 2,
     "schema_version": 3,
     "solution": false,
     "task": false
    }
   },
   "outputs": [],
   "source": [
    "assert len(ax.lines) == 3\n",
    "assert len(ax.legend().texts) == 3\n",
    "assert ax.title.get_text() != \"\"\n",
    "assert ax.get_xlabel() != \"\""
   ]
  },
  {
   "cell_type": "markdown",
   "metadata": {
    "deletable": false,
    "editable": false,
    "nbgrader": {
     "cell_type": "markdown",
     "checksum": "7ceaa67e3078c8fd2ffda661a9a0df13",
     "grade": false,
     "grade_id": "cell-25c5ce8287aa00a4",
     "locked": true,
     "schema_version": 3,
     "solution": false,
     "task": false
    }
   },
   "source": [
    "O que você vê no gráfico acima?\n",
    "Como você explica?"
   ]
  },
  {
   "cell_type": "markdown",
   "metadata": {
    "deletable": false,
    "nbgrader": {
     "cell_type": "markdown",
     "checksum": "08a80b4de713a17fe757e076d555bd09",
     "grade": true,
     "grade_id": "cell-b7f111b2be544b98",
     "locked": false,
     "points": 2,
     "schema_version": 3,
     "solution": true,
     "task": false
    }
   },
   "source": [
    "Pode-se perceber facilmente um tipo de limitação em g2 e g3. Ao passo que n_iter vai aumentando o erro diminui (como esperado), podemos ver que inicialmente g1, g2 e g3 descrescem juntos, ficando sobrepostos (possuem o mesmo erro), porém g2 e g3 param de descrescer e se estabilizam apartir de uma certa iteração, isso se dá pelo tamanho do passo (h) utilizado na aproximação do valor de df. Com um passo menor obtêm-se mais precisão, logo g2 com h=1e-3 tem uma limitação maior que g3 utilizando h=1e-5."
   ]
  },
  {
   "cell_type": "markdown",
   "metadata": {
    "deletable": false,
    "editable": false,
    "nbgrader": {
     "cell_type": "markdown",
     "checksum": "8dbccd2631fc56a8ad603f9008b64063",
     "grade": false,
     "grade_id": "cell-23da70c6d88da324",
     "locked": true,
     "schema_version": 3,
     "solution": false,
     "task": false
    }
   },
   "source": [
    "## Newton\n",
    "\n",
    "Para usar o método de Newton, será necessário usarmos mais uma derivada numérica.\n",
    "\n",
    "Implemente\n",
    "- $h_1(x)$, a segunda derivada analítica, e\n",
    "- $h_2(x)$ a derivada numérica (que pode ser obtida a partir de `ddf_central`)."
   ]
  },
  {
   "cell_type": "code",
   "execution_count": 16,
   "metadata": {
    "deletable": false,
    "nbgrader": {
     "cell_type": "code",
     "checksum": "5404878115634b009970291c4afae16f",
     "grade": false,
     "grade_id": "cell-6f3276844ea70932",
     "locked": false,
     "schema_version": 3,
     "solution": true,
     "task": false
    }
   },
   "outputs": [],
   "source": [
    "def h1(x):\n",
    "    return np.exp(x)\n",
    "\n",
    "def h2(x):\n",
    "    return ddf_central(f,x)"
   ]
  },
  {
   "cell_type": "code",
   "execution_count": 17,
   "metadata": {
    "deletable": false,
    "editable": false,
    "nbgrader": {
     "cell_type": "code",
     "checksum": "b03ce24db28b1b65b76091ac88b7b84f",
     "grade": true,
     "grade_id": "cell-c10da51972d62af4",
     "locked": true,
     "points": 1,
     "schema_version": 3,
     "solution": false,
     "task": false
    }
   },
   "outputs": [],
   "source": [
    "np.random.seed(41)\n",
    "for x in np.random.rand(10):\n",
    "    assert np.isclose(h1(x), h2(x)), x"
   ]
  },
  {
   "cell_type": "markdown",
   "metadata": {
    "deletable": false,
    "editable": false,
    "nbgrader": {
     "cell_type": "markdown",
     "checksum": "16d6f04597392e72afb177d7a4aed7c7",
     "grade": false,
     "grade_id": "cell-2e22f9380c6d0178",
     "locked": true,
     "schema_version": 3,
     "solution": false,
     "task": false
    }
   },
   "source": [
    "Agora, aplique o método de Newton (com tolerâncias padrão):\n",
    "- com ambas as derivadas analíticas\n",
    "- com a primeira derivada analítica, e a segunda numérica\n",
    "- com ambas as derivadas numéricas (use a \"melhor\" derivada central que você puder).\n",
    "\n",
    "Faça, como no caso da bisseção, o gráfico da distância até a mínimo da função."
   ]
  },
  {
   "cell_type": "code",
   "execution_count": 18,
   "metadata": {
    "deletable": false,
    "nbgrader": {
     "cell_type": "code",
     "checksum": "55cf4c6fc14a5618fa060ef44894ccbd",
     "grade": false,
     "grade_id": "cell-1d13bf7169526341",
     "locked": false,
     "schema_version": 3,
     "solution": true,
     "task": false
    }
   },
   "outputs": [
    {
     "data": {
      "image/png": "[encoded data removed]",
      "text/plain": [
       "<Figure size 432x288 with 1 Axes>"
      ]
     },
     "metadata": {
      "needs_background": "light"
     },
     "output_type": "display_data"
    }
   ],
   "source": [
    "xs = np.linspace(0,7, num=7)+1\n",
    "y_full_analitc = [abs(i-np.log(2)) for i in newton_pts(g1, h1, 0)]\n",
    "y_analitc_num = [abs(i-np.log(2)) for i in newton_pts(g1, h2, 0)]\n",
    "y_full_num = [abs(i-np.log(2)) for i in newton_pts(g2, h2, 0)]\n",
    "\n",
    "plt.semilogy(xs,y_full_analitc, label='Full Analítico')\n",
    "plt.semilogy(xs,y_analitc_num, label='Analitíco e Numérico')\n",
    "plt.semilogy(xs,y_full_num, label='Full Numérico')\n",
    "\n",
    "plt.legend()\n",
    "plt.xlabel('n_iter')\n",
    "plt.ylabel('error')\n",
    "plt.title('Evolução do erro de acordo com a qntd de passos do método de newton (eixo y em escala log)')\n",
    "ax = plt.gca();"
   ]
  },
  {
   "cell_type": "code",
   "execution_count": 19,
   "metadata": {
    "deletable": false,
    "editable": false,
    "nbgrader": {
     "cell_type": "code",
     "checksum": "ace81e81269c29557de33862e75e13c8",
     "grade": true,
     "grade_id": "cell-66860f1fda7d0769",
     "locked": true,
     "points": 1,
     "schema_version": 3,
     "solution": false,
     "task": false
    }
   },
   "outputs": [],
   "source": [
    "assert len(ax.lines) == 3\n",
    "assert len(ax.legend().texts) == 3\n",
    "assert ax.title.get_text() != \"\"\n",
    "assert ax.get_xlabel() != \"\""
   ]
  },
  {
   "cell_type": "markdown",
   "metadata": {
    "deletable": false,
    "editable": false,
    "nbgrader": {
     "cell_type": "markdown",
     "checksum": "c7f395843dd76b9406656cd4a989c80b",
     "grade": false,
     "grade_id": "cell-80622fba5962c988",
     "locked": true,
     "schema_version": 3,
     "solution": false,
     "task": false
    }
   },
   "source": [
    "Agora, reduza ambas as tolerâncias do método para `1e-15`, e refaça os gráficos."
   ]
  },
  {
   "cell_type": "code",
   "execution_count": 20,
   "metadata": {
    "deletable": false,
    "nbgrader": {
     "cell_type": "code",
     "checksum": "3735d31827898e3337581fa6db3ea1c6",
     "grade": true,
     "grade_id": "cell-99d9571ec5ff0bb4",
     "locked": false,
     "points": 1,
     "schema_version": 3,
     "solution": true,
     "task": false
    }
   },
   "outputs": [
    {
     "data": {
      "image/png": "[encoded data removed]",
      "text/plain": [
       "<Figure size 432x288 with 1 Axes>"
      ]
     },
     "metadata": {
      "needs_background": "light"
     },
     "output_type": "display_data"
    }
   ],
   "source": [
    "xs = np.linspace(0,8, num=8)+1    \n",
    "y_full_analitc = [abs(i-np.log(2)) for i in newton_pts(g1, h1, 0, xtol=1e-15, ytol=1e-15)]\n",
    "y_analitc_num = [abs(i-np.log(2)) for i in newton_pts(g1, h2, 0, xtol=1e-15, ytol=1e-15)]\n",
    "y_full_num = [abs(i-np.log(2)) for i in newton_pts(g2, h2, 0, xtol=1e-15, ytol=1e-15)]\n",
    "\n",
    "plt.semilogy(xs,y_full_analitc, label='Full Analítico')\n",
    "plt.semilogy(xs,y_analitc_num, label='Analitíco e Numérico')\n",
    "plt.semilogy(xs,y_full_num, label='Full Numérico')\n",
    "\n",
    "plt.legend()\n",
    "plt.xlabel('n_iter')\n",
    "plt.ylabel('error')\n",
    "plt.title('Evolução do erro de acordo com a qntd de passos do método de newton (eixo y em escala log)')\n",
    "ax = plt.gca();"
   ]
  },
  {
   "cell_type": "markdown",
   "metadata": {
    "deletable": false,
    "editable": false,
    "nbgrader": {
     "cell_type": "markdown",
     "checksum": "74ca5df8fcfd3e57d63283c23c0136c9",
     "grade": false,
     "grade_id": "cell-01eb8bb00f1f5bdb",
     "locked": true,
     "schema_version": 3,
     "solution": false,
     "task": false
    }
   },
   "source": [
    "Deveria haver (pelo menos) duas diferenças entre este gráfico e o anterior.\n",
    "\n",
    "- Quais você observa?\n",
    "- Como você as explica?"
   ]
  },
  {
   "cell_type": "markdown",
   "metadata": {
    "deletable": false,
    "nbgrader": {
     "cell_type": "markdown",
     "checksum": "0933d483ff8f446d9225d3095a6ff333",
     "grade": true,
     "grade_id": "cell-7f4f22e525bf8a98",
     "locked": false,
     "points": 3,
     "schema_version": 3,
     "solution": true,
     "task": false
    }
   },
   "source": [
    "Pode-se perceber primeiro que o número de passos aumentou, isso se dá pois uma precisão mais fina requer mais passos para ser alcançada. \n",
    "\n",
    "Depois podemos ver também uma diferença na linha laranja (df analítica e ddf numérica), que, inicialmente é bem parecida com a linha azul (full analítica) pois sua primeira derivada também é analítica e, com isso tem peso mais relevante nos cálculos do que a segunda derivada (numérica), possibilitando então essa semelhança, porém, ao passar dos passos podemos ver que em um momento o fato da segunda derivada ser numérica começa a resultar em uma diferença, que ocorre devido a uma limitação de precisão vinda da segunda derivada (pois é um valor aproximado).\n",
    "\n",
    "Extra: Analisando os gráficos vemos na linha verde que usando as derivadas numéricas existe uma limitação de precisão bem gritante (vinda das limitações de precisão das derivadas); Na linha azul (usando ambas as derivadas analíticas) o erro tende para 0 e até que bem rápido, devido à excelente precisão das derivadas analíticas; Já na linha laranja (df analítica e ddf numérica), como dito acima, inicialmente tem-se um ótima precisão, devido ao fato de a 1º derivada ser analítica e possuir peso mais significante nos cálculos, porém, chega um momento que a falta de precisão da 2º derivada começa a afetar e isso gera uma limitação. "
   ]
  },
  {
   "cell_type": "markdown",
   "metadata": {
    "deletable": false,
    "editable": false,
    "nbgrader": {
     "cell_type": "markdown",
     "checksum": "e47055e0ef025c7e55b8dafd6a99cc15",
     "grade": false,
     "grade_id": "cell-fa08d17ea63fb838",
     "locked": true,
     "schema_version": 3,
     "solution": false,
     "task": false
    }
   },
   "source": [
    "# 3: O mesmo problema, mais complicado\n",
    "\n",
    "Queremos achar o mínimo da função $$ f(x) = e^{x^2-2x+1}-2^{x^3-6x+12} $$\n",
    "no intervalo $[-2,2]$.\n",
    "\n",
    "Defina $f$, e faça um gráfico para encontrar um intervalo para bisseção e um ponto inicial para Newton."
   ]
  },
  {
   "cell_type": "code",
   "execution_count": 21,
   "metadata": {
    "deletable": false,
    "nbgrader": {
     "cell_type": "code",
     "checksum": "0ced7e6818e714424989f7e7986e33bf",
     "grade": false,
     "grade_id": "cell-f50afc7c95af2a39",
     "locked": false,
     "schema_version": 3,
     "solution": true,
     "task": false
    }
   },
   "outputs": [
    {
     "data": {
      "image/png": "[encoded data removed]",
      "text/plain": [
       "<Figure size 432x288 with 1 Axes>"
      ]
     },
     "metadata": {
      "needs_background": "light"
     },
     "output_type": "display_data"
    }
   ],
   "source": [
    "def f(x): return np.exp((x**2)-(2*x)+1) - 2**((x**3)-(6*x)+12)\n",
    "x = np.linspace(-2,2, num=100000)\n",
    "y = f(x)\n",
    "\n",
    "plt.plot(x,y, label='f')\n",
    "plt.legend()\n",
    "plt.xlabel('eixo x')\n",
    "plt.ylabel('eixo y')\n",
    "plt.title('Gráfico de f(x)')\n",
    "ax = plt.gca();"
   ]
  },
  {
   "cell_type": "code",
   "execution_count": 22,
   "metadata": {
    "deletable": false,
    "editable": false,
    "nbgrader": {
     "cell_type": "code",
     "checksum": "34341cf7cc79160c950d6c993bbf2835",
     "grade": true,
     "grade_id": "cell-b3efe4063d0789aa",
     "locked": true,
     "points": 1,
     "schema_version": 3,
     "solution": false,
     "task": false
    }
   },
   "outputs": [],
   "source": [
    "assert len(ax.lines) == 1\n",
    "assert ax.title.get_text() != \"\"\n",
    "\n",
    "yvals = ax.lines[0].get_ydata()\n",
    "assert min(yvals) <= -20000\n",
    "assert np.all(yvals <= 0)"
   ]
  },
  {
   "cell_type": "markdown",
   "metadata": {
    "deletable": false,
    "editable": false,
    "nbgrader": {
     "cell_type": "markdown",
     "checksum": "d5e0e2f2cb67874b7c299b07e5d77063",
     "grade": false,
     "grade_id": "cell-3cf7c7f8b9c917bf",
     "locked": true,
     "schema_version": 3,
     "solution": false,
     "task": false
    }
   },
   "source": [
    "Calcule a raiz exata (a menos da precisão) do computador,\n",
    "aplicando o método da bisseção à derivada analítica de $f$."
   ]
  },
  {
   "cell_type": "code",
   "execution_count": 23,
   "metadata": {
    "deletable": false,
    "nbgrader": {
     "cell_type": "code",
     "checksum": "a58bf31aa4bba8ee06c03c0edc80aede",
     "grade": false,
     "grade_id": "cell-24d5013349e7f661",
     "locked": false,
     "schema_version": 3,
     "solution": true,
     "task": false
    }
   },
   "outputs": [
    {
     "name": "stdout",
     "output_type": "stream",
     "text": [
      "[-1.25       -1.375      -1.4375     -1.40625    -1.421875   -1.4140625\n",
      " -1.41015625 -1.41210938 -1.41308594 -1.41259766 -1.4128418  -1.41296387\n",
      " -1.41290283 -1.41287231 -1.41288757 -1.41287994 -1.41287613 -1.41287422\n",
      " -1.41287327 -1.41287279 -1.41287255 -1.41287243 -1.41287237 -1.4128724\n",
      " -1.41287239 -1.4128724 ]\n"
     ]
    }
   ],
   "source": [
    "def df(x): return np.exp((x**2)-(2*x)+1) * (2*x-2) - np.log(2) * 2**((x**3)-(6*x)+12) * (3*x**2-6)\n",
    "x = bissecao_pts(df,-1.5,-1)\n",
    "\n",
    "print(np.array(x))"
   ]
  },
  {
   "cell_type": "markdown",
   "metadata": {
    "deletable": false,
    "editable": false,
    "nbgrader": {
     "cell_type": "markdown",
     "checksum": "b74703f8033db78b8d42c36ceaa81e61",
     "grade": false,
     "grade_id": "cell-40c7aaafebc60a39",
     "locked": true,
     "schema_version": 3,
     "solution": false,
     "task": false
    }
   },
   "source": [
    "Calcule o valor de $f$ nos pontos obtidos.\n",
    "Em qual/quais deles ocorreu o mínimo?"
   ]
  },
  {
   "cell_type": "code",
   "execution_count": 24,
   "metadata": {
    "deletable": false,
    "nbgrader": {
     "cell_type": "code",
     "checksum": "e7a8bce40f0ae85e789f796c790d3c34",
     "grade": true,
     "grade_id": "cell-c6e8bb7029f4e79b",
     "locked": false,
     "points": 1,
     "schema_version": 3,
     "solution": true,
     "task": false
    }
   },
   "outputs": [
    {
     "name": "stdout",
     "output_type": "stream",
     "text": [
      "[-191327.43213335 -205448.07103413 -205941.9419976  -206288.00613774\n",
      " -206265.11269191 -206313.9068241  -206310.26558092 -206314.41713842\n",
      " -206314.74515613 -206314.72688663 -206314.77246306 -206314.76792087\n",
      " -206314.77246967 -206314.77303578 -206314.77289508 -206314.77300102\n",
      " -206314.7730273  -206314.77303376 -206314.77303533 -206314.77303569\n",
      " -206314.77303577 -206314.77303579 -206314.77303579 -206314.77303579\n",
      " -206314.77303579 -206314.77303579]\n",
      "O valor mínimo de f no intervalo dado é: f(x)=-206314.77303578667\n"
     ]
    }
   ],
   "source": [
    "y = [f(i) for i in x]\n",
    "min_y = np.min(y)\n",
    "\n",
    "print(np.array(y))\n",
    "print(f'O valor mínimo de f no intervalo dado é: f(x)={min_y}')"
   ]
  },
  {
   "cell_type": "markdown",
   "metadata": {
    "deletable": false,
    "editable": false,
    "nbgrader": {
     "cell_type": "markdown",
     "checksum": "e65ad2e99a7a5b85c2a7fe0fa22a03de",
     "grade": false,
     "grade_id": "cell-5beca6356c3e27a2",
     "locked": true,
     "schema_version": 3,
     "solution": false,
     "task": false
    }
   },
   "source": [
    "Qual a distância deste ponto ao último ponto produzido pela bisseção?"
   ]
  },
  {
   "cell_type": "code",
   "execution_count": 25,
   "metadata": {
    "deletable": false,
    "nbgrader": {
     "cell_type": "code",
     "checksum": "99d42db2387a4fe1e27e36ff4cbcce2b",
     "grade": true,
     "grade_id": "cell-6345a587885e746f",
     "locked": false,
     "points": 1,
     "schema_version": 3,
     "solution": true,
     "task": false
    }
   },
   "outputs": [
    {
     "name": "stdout",
     "output_type": "stream",
     "text": [
      "O valor de x tal que f(x) resulta no menor valor do intervalo é: x=-1.4128724038600922\n",
      "Sua distância absoluta ao último pto dado pela bisseção é: 7.450580596923828e-09\n"
     ]
    }
   ],
   "source": [
    "for i in x:\n",
    "    if f(i) == min_y:\n",
    "        x0 = i\n",
    "        \n",
    "print(f'O valor de x tal que f(x) resulta no menor valor do intervalo é: x={x0}')\n",
    "print(f'Sua distância absoluta ao último pto dado pela bisseção é: {abs(x0 - x[-1])}')"
   ]
  },
  {
   "cell_type": "markdown",
   "metadata": {
    "deletable": false,
    "editable": false,
    "nbgrader": {
     "cell_type": "markdown",
     "checksum": "c908ed0939326673dbee1ea51699735f",
     "grade": false,
     "grade_id": "cell-ac38132ef810a31c",
     "locked": true,
     "schema_version": 3,
     "solution": false,
     "task": false
    }
   },
   "source": [
    "Agora, compare o erro com o método da bisseção e o de Newton, usando as derivadas numéricas.\n",
    "\n",
    "Como sugerem as contas acima, aqui há vários problemas de precisão numérica.\n",
    "Assim, tente botar tolerâncias pequenas, mas não pequenas demais para seus métodos."
   ]
  },
  {
   "cell_type": "code",
   "execution_count": 26,
   "metadata": {
    "deletable": false,
    "nbgrader": {
     "cell_type": "code",
     "checksum": "eeab84f96605262deb3cd7fd3ec298c7",
     "grade": true,
     "grade_id": "cell-e6a2e19935b8f52c",
     "locked": false,
     "points": 2,
     "schema_version": 3,
     "solution": true,
     "task": false
    }
   },
   "outputs": [
    {
     "name": "stdout",
     "output_type": "stream",
     "text": [
      "Diferença absoluta entre x0 da bisseção e x0 de newton: 4.7335770458900583e-07\n",
      "Diferença absoluta entre f(x0) da bisseção e f(x0) de newton: 1.3760291039943695e-07\n"
     ]
    }
   ],
   "source": [
    "def g1(x): return df_central(f, x)\n",
    "def g2(x): return ddf_central(f, x)\n",
    "\n",
    "possiveis_x = newton_pts(g1, g2, -1.5, xtol=1e-6, ytol=1e-6)\n",
    "possiveis_y = [f(i) for i in possiveis_x]\n",
    "newton_min_y = np.min(possiveis_y)\n",
    "\n",
    "for i in possiveis_x:\n",
    "    if f(i) == newton_min_y:\n",
    "        x0_newton = i\n",
    "      \n",
    "print(f'Diferença absoluta entre x0 da bisseção e x0 de newton: {abs(x0 - x0_newton)}')\n",
    "print(f'Diferença absoluta entre f(x0) da bisseção e f(x0) de newton: {abs(min_y - newton_min_y)}')"
   ]
  },
  {
   "cell_type": "markdown",
   "metadata": {},
   "source": [
    "Extra: O método de newton encontrou um pto x0_newton, tal que f(x0_newton) é ligeiramente MAIOR que f(x0) encontrado pelo método da bisseção (com diferença mostrada acima). Isso se dá pois, ao utilizar derivadas numérica ficamos com a precisão limitada, se utilizássemos derivadas analíticas no método de newton conseguiríamos alcançar precisões bem mais finas. \n",
    "\n",
    "Vale ressaltar que o método de newton (mesmo pecando um pouco na precisão DESSE COMPARATIVO) efetua seus cálculos em bem menos iterações, e, como dito acima, se fosse utilizada derivadas analíticas teríamos resultados mais precisos e eficientes."
   ]
  }
 ],
 "metadata": {
  "kernelspec": {
   "display_name": "Python 3",
   "language": "python",
   "name": "python3"
  },
  "language_info": {
   "codemirror_mode": {
    "name": "ipython",
    "version": 3
   },
   "file_extension": ".py",
   "mimetype": "text/x-python",
   "name": "python",
   "nbconvert_exporter": "python",
   "pygments_lexer": "ipython3",
   "version": "3.8.5"
  }
 },
 "nbformat": 4,
 "nbformat_minor": 4
}
